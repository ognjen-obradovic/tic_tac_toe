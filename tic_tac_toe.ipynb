{
 "cells": [
  {
   "cell_type": "code",
   "execution_count": null,
   "id": "99df01f4-2625-4de0-902c-29813f96b0d1",
   "metadata": {},
   "outputs": [
    {
     "name": "stdout",
     "output_type": "stream",
     "text": [
      "  |   |  \n",
      "--+---+--\n",
      "  |   |  \n",
      "--+---+--\n",
      "  |   |  \n",
      "igrač X, izaberi poziciju (od 1 do 9):\n"
     ]
    },
    {
     "name": "stdin",
     "output_type": "stream",
     "text": [
      " 1\n"
     ]
    },
    {
     "name": "stdout",
     "output_type": "stream",
     "text": [
      "X |   |  \n",
      "--+---+--\n",
      "  |   |  \n",
      "--+---+--\n",
      "  |   |  \n",
      "igrač O, izaberi poziciju (od 1 do 9):\n"
     ]
    }
   ],
   "source": [
    "#pravljenje table\n",
    "def prikazi_tablu(tabla):\n",
    "    print(f\"{tabla[0]} | {tabla[1]} | {tabla[2]}\")\n",
    "    print(\"--+---+--\")\n",
    "    print(f\"{tabla[3]} | {tabla[4]} | {tabla[5]}\")\n",
    "    print(\"--+---+--\")\n",
    "    print(f\"{tabla[6]} | {tabla[7]} | {tabla[8]}\")\n",
    "\n",
    "#provera dal je neko pobednik\n",
    "def proveri_pobednika(tabla, igrac):\n",
    "    pobednicke_kombinacije = [\n",
    "        [0, 1, 2], [3, 4, 5], [6, 7, 8], \n",
    "        [0, 3, 6], [1, 4, 7], [2, 5, 8], \n",
    "        [0, 4, 8], [2, 4, 6]             \n",
    "    ]\n",
    "    for kombinacija in pobednicke_kombinacije:\n",
    "        if tabla[kombinacija[0]] == tabla[kombinacija[1]] == tabla[kombinacija[2]] == igrac:\n",
    "            return True\n",
    "    return False\n",
    "\n",
    "#pitanje da li je tabla puna\n",
    "def tabla_puna(tabla):\n",
    "    return all(pozicija != \" \" for pozicija in tabla)\n",
    "\n",
    "#game himself\n",
    "def tic_tac_toe():\n",
    "    tabla = [\" \"] * 9\n",
    "    trenutni_igrac = \"X\"\n",
    "    igra_u_toku = True\n",
    "    \n",
    "    while igra_u_toku:\n",
    "        prikazi_tablu(tabla)\n",
    "        print(f\"igrač {trenutni_igrac}, izaberi poziciju (od 1 do 9):\")\n",
    "        \n",
    "        try:\n",
    "            pozicija = int(input()) - 1\n",
    "            if pozicija < 0 or pozicija > 8 or tabla[pozicija] != \" \":\n",
    "                print(\"nevazeci potez, probaj povono.\")\n",
    "                continue\n",
    "        except ValueError:\n",
    "            print(\"unesite broj između 1 i 9.\")\n",
    "            continue\n",
    "        \n",
    "        tabla[pozicija] = trenutni_igrac\n",
    "        \n",
    "        if proveri_pobednika(tabla, trenutni_igrac):\n",
    "            prikazi_tablu(tabla)\n",
    "            print(f\"Igrač {trenutni_igrac} je pobednik!\")\n",
    "            igra_u_toku = False\n",
    "        elif tabla_puna(tabla):\n",
    "            prikazi_tablu(tabla)\n",
    "            print(\"nereseno\")\n",
    "            igra_u_toku = False\n",
    "        else:\n",
    "            trenutni_igrac = \"O\" if trenutni_igrac == \"X\" else \"X\"\n",
    "\n",
    "tic_tac_toe()\n"
   ]
  },
  {
   "cell_type": "code",
   "execution_count": null,
   "id": "01fbcbea-2ae2-4028-877a-7161a3624fd2",
   "metadata": {},
   "outputs": [],
   "source": []
  },
  {
   "cell_type": "code",
   "execution_count": null,
   "id": "d59666df-8cde-4b77-a2eb-3048d30aa4df",
   "metadata": {},
   "outputs": [],
   "source": []
  }
 ],
 "metadata": {
  "kernelspec": {
   "display_name": "Python 3 (ipykernel)",
   "language": "python",
   "name": "python3"
  },
  "language_info": {
   "codemirror_mode": {
    "name": "ipython",
    "version": 3
   },
   "file_extension": ".py",
   "mimetype": "text/x-python",
   "name": "python",
   "nbconvert_exporter": "python",
   "pygments_lexer": "ipython3",
   "version": "3.12.4"
  }
 },
 "nbformat": 4,
 "nbformat_minor": 5
}
